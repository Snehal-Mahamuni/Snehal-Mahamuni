{
  "nbformat": 4,
  "nbformat_minor": 0,
  "metadata": {
    "colab": {
      "provenance": [],
      "toc_visible": true,
      "authorship_tag": "ABX9TyO3apJOYnqYPc1G3CJt4HRN",
      "include_colab_link": true
    },
    "kernelspec": {
      "name": "python3",
      "display_name": "Python 3"
    },
    "language_info": {
      "name": "python"
    }
  },
  "cells": [
    {
      "cell_type": "markdown",
      "metadata": {
        "id": "view-in-github",
        "colab_type": "text"
      },
      "source": [
        "<a href=\"https://colab.research.google.com/github/Snehal-Mahamuni/Snehal-Mahamuni/blob/main/Experiment_No_1.ipynb\" target=\"_parent\"><img src=\"https://colab.research.google.com/assets/colab-badge.svg\" alt=\"Open In Colab\"/></a>"
      ]
    },
    {
      "cell_type": "code",
      "execution_count": 1,
      "metadata": {
        "id": "xAkPA7wGXlCa",
        "colab": {
          "base_uri": "https://localhost:8080/"
        },
        "outputId": "5bfbf304-8698-4b12-fd20-2dbb1c639cef"
      },
      "outputs": [
        {
          "output_type": "stream",
          "name": "stdout",
          "text": [
            "area of circle is: 32.153600000000004\n"
          ]
        }
      ],
      "source": [
        "#1.Area of circle\n",
        "r=3.2\n",
        "area=3.14*r*r\n",
        "print(\"area of circle is:\",area)"
      ]
    },
    {
      "cell_type": "code",
      "source": [
        "#2.Area of circle 2\n",
        "r=float(input(\"enter a radius of circle:\"))\n",
        "area=3.14*r*r\n",
        "print(\"area of circle is:\",area)\n",
        "\n",
        "\n"
      ],
      "metadata": {
        "colab": {
          "base_uri": "https://localhost:8080/"
        },
        "id": "cbvjp6Fjaz0K",
        "outputId": "0fc34675-804f-4d1e-efd8-791e32600d33"
      },
      "execution_count": 4,
      "outputs": [
        {
          "output_type": "stream",
          "name": "stdout",
          "text": [
            "enter a radius of circle:2.3\n",
            "area of circle is: 16.610599999999998\n"
          ]
        }
      ]
    },
    {
      "cell_type": "code",
      "source": [
        "#3.addition of 2 no.\n",
        "a=int(input(\"enter a no1:\"))\n",
        "b=int(input(\"enter a no2:\"))\n",
        "c=a+b\n",
        "print(\"addition is:\",c)\n"
      ],
      "metadata": {
        "colab": {
          "base_uri": "https://localhost:8080/"
        },
        "id": "K8sNqRRMb7Sb",
        "outputId": "60022641-5f60-4b3b-b472-dc4c6902c671"
      },
      "execution_count": 6,
      "outputs": [
        {
          "output_type": "stream",
          "name": "stdout",
          "text": [
            "enter a no1.:23\n",
            "enter a no2.:34\n",
            "addition is: 57\n"
          ]
        }
      ]
    },
    {
      "cell_type": "markdown",
      "source": [
        "# New Section"
      ],
      "metadata": {
        "id": "pWpUuG8Gfgku"
      }
    },
    {
      "cell_type": "code",
      "source": [
        "#palindrome\n",
        "\n",
        "a=input(\"enter a string:\")\n",
        "b=\"\"\n",
        "for i in a:\n",
        "    b=i+b\n",
        "    if (a==b):\n",
        "      print(\"palindrome\")\n",
        "    else:\n",
        "      print(\"not palindrome\")\n"
      ],
      "metadata": {
        "colab": {
          "base_uri": "https://localhost:8080/"
        },
        "id": "ll9ZSErMd6aZ",
        "outputId": "4d49eae1-beec-4111-96f1-a72fbc43adcf"
      },
      "execution_count": 17,
      "outputs": [
        {
          "output_type": "stream",
          "name": "stdout",
          "text": [
            "enter a string:mom\n",
            "not palindrome\n",
            "not palindrome\n",
            "palindrome\n"
          ]
        }
      ]
    }
  ]
}